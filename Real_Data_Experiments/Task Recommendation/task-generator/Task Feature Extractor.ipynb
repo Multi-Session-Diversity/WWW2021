{
 "cells": [
  {
   "cell_type": "code",
   "execution_count": 1,
   "metadata": {},
   "outputs": [
    {
     "name": "stderr",
     "output_type": "stream",
     "text": [
      "/Users/User/.virtualenvs/window_study/lib/python3.7/site-packages/psycopg2/__init__.py:144: UserWarning: The psycopg2 wheel package will be renamed from release 2.8; in order to keep installing from binary please use \"pip install psycopg2-binary\" instead. For details see: <http://initd.org/psycopg/docs/install.html#binary-install-from-pypi>.\n",
      "  \"\"\")\n"
     ]
    }
   ],
   "source": [
    "import pandas as pd\n",
    "import json \n",
    "import numpy as np\n",
    "import scipy\n",
    "import random\n",
    "from data_model import *\n",
    "from pprint import pprint\n",
    "import re"
   ]
  },
  {
   "cell_type": "code",
   "execution_count": 2,
   "metadata": {},
   "outputs": [],
   "source": [
    "from functools import partial\n",
    "\n",
    "def rand_gen(mu,sigma):\n",
    "    return sigma * np.random.randn() + mu\n",
    "\n"
   ]
  },
  {
   "cell_type": "code",
   "execution_count": 3,
   "metadata": {},
   "outputs": [],
   "source": [
    "task_type_time = {t_type.task_type_id:partial(rand_gen, mu = t_type.expected_time,sigma=np.random.randn()+1) for t_type in TaskType.select(TaskType.task_type_id,TaskType.expected_time).order_by(TaskType.task_type_id)}"
   ]
  },
  {
   "cell_type": "code",
   "execution_count": 4,
   "metadata": {},
   "outputs": [
    {
     "data": {
      "text/plain": [
       "5.47738292072486"
      ]
     },
     "execution_count": 4,
     "metadata": {},
     "output_type": "execute_result"
    }
   ],
   "source": [
    "task_type_time[1]()"
   ]
  },
  {
   "cell_type": "code",
   "execution_count": 5,
   "metadata": {},
   "outputs": [],
   "source": [
    "task_type_pay = {t_type.task_type_id:partial(rand_gen, mu = t_type.expected_pay,sigma=np.random.randn()*0.001) for t_type in TaskType.select(TaskType.task_type_id,TaskType.expected_pay).order_by(TaskType.task_type_id)}"
   ]
  },
  {
   "cell_type": "code",
   "execution_count": 12,
   "metadata": {},
   "outputs": [],
   "source": [
    "pattern = \"(http|ftp|https)?(://)?([\\w_-]+(?:(?:\\.[\\w_-]+)+))([\\w.,@?^=%&:/~+#-]*[\\w@?^=%&/~+#-])?\"\n",
    "link_finder = re.compile(pattern)\n"
   ]
  },
  {
   "cell_type": "code",
   "execution_count": 16,
   "metadata": {},
   "outputs": [],
   "source": [
    "def extract_amounts(task,task_type):\n",
    "    pattern = \"(http|ftp|https)?(://)?([\\w_-]+(?:(?:\\.[\\w_-]+)+))([\\w.,@?^=%&:/~+#-]*[\\w@?^=%&/~+#-])?\"\n",
    "    link_finder = re.compile(pattern)\n",
    "    num_images = 0\n",
    "    num_words = 0\n",
    "    num_links = 0\n",
    "    num_options = 0\n",
    "    if 'text' in task:\n",
    "        for text_objects in task['text']:\n",
    "            num_links += len(link_finder.findall(str(text_objects['content'])))\n",
    "            num_words += len(str(text_objects['content']))\n",
    "    if 'image' in task:\n",
    "        num_images = len(task['image'])\n",
    "    \n",
    "    if \"choice\" in task:\n",
    "        for opt in task['choice']:\n",
    "            num_options += len(opt['options'])\n",
    "    \n",
    "    new_t = {'num_of_words':num_words,\n",
    "            'num_of_images':num_images,\n",
    "            'num_of_links':num_links,\n",
    "            'num_options' : num_options,\n",
    "            'expected_time':task_type_time[task_type](),\n",
    "            'expected_pay' :task_type_pay[task_type]()\n",
    "            }  \n",
    "    return new_t\n",
    "        "
   ]
  },
  {
   "cell_type": "code",
   "execution_count": 17,
   "metadata": {},
   "outputs": [
    {
     "name": "stdout",
     "output_type": "stream",
     "text": [
      "*********\n",
      "**********\n",
      "**********\n",
      "**********\n",
      "**********\n",
      "**********\n",
      "**********\n",
      "**********\n",
      "**********\n",
      "**********\n",
      "**********\n",
      "**********\n",
      "**********\n",
      "**********\n",
      "**********\n",
      "*********"
     ]
    }
   ],
   "source": [
    "tasks = Task.select()\n",
    "for t in tasks.iterator():\n",
    "    if t.id % 1000 == 0:\n",
    "        print(\"*\",end=\"\")\n",
    "    if t.id % 10000 == 0:\n",
    "        print()\n",
    "\n",
    "    feat = extract_amounts(t.content,t.task_type.task_type_id)\n",
    "    TaskFeatures.create(task_id=t.id,feature = feat)"
   ]
  },
  {
   "cell_type": "code",
   "execution_count": 15,
   "metadata": {},
   "outputs": [
    {
     "name": "stdout",
     "output_type": "stream",
     "text": [
      "{'content': 419, 'label': 'Name of App'}\n",
      "{'content': \"Jump, fly and dodge through Antarctica. Air Penguin is incredibly simple and highly addictive. All you need to know is how to tilt.\\nJourney through the icy South Pole to help Air Penguin save his family from melting ice caps.\\n\\nWho said penguins can't fly?! Make them flap their tiny wings!\\nTilt your way out of danger as you bounce, glide and slide through this Antarctic adventure today!\\n\\n\\x89ÓÛ\\x89ÓÛ\\x89ÓÛ\\x89ÓÛ\\x89ÓÛ\\x89ÓÛ\\x89ÓÛ\\x89ÓÛ\\x89ÓÛ\\x89ÓÛ\\x89ÓÛ\\x89ÓÛ\\x89ÓÛ\\x89ÓÛ\\x89ÓÛ\\x89ÓÛ\\x89ÓÛ\\x89ÓÛ\\x89ÓÛ\\x89ÓÛ\\x89ÓÛ\\n\\nCRITICS SAY\\n\\nAir Penguin's hotter than Tiny Wings and topping Angry Birds.\\n- Kotaku\\n\\nAir Penguin is fun, no doubt about it. Addictive, too, pushing all the right  just one more time  buttons.\\n- CNET\\n\\nAir Penguin has adorable graphics, dead simple gameplay, and an engaging scoring system that ensures you\\x89Ûªll keep coming back for more.\\n- Touch Arcade\\n\\n\\x89ÓÛ\\x89ÓÛ\\x89ÓÛ\\x89ÓÛ\\x89ÓÛ\\x89ÓÛ\\x89ÓÛ\\x89ÓÛ\\x89ÓÛ\\x89ÓÛ\\x89ÓÛ\\x89ÓÛ\\x89ÓÛ\\x89ÓÛ\\x89ÓÛ\\x89ÓÛ\\x89ÓÛ\\x89ÓÛ\\x89ÓÛ\\x89ÓÛ\\x89ÓÛ\\n\\nFEATURES\\n\\n\\nMULTI-DIRECTIONAL TILT CONTROL GAMEPLAY\\nTilt Air Penguin in all directions to guide him safely through the Antarctic\\n\\nTWO DIFFERENT MODES FOR DOUBLE THE FUN\\nCampaign through 125 stages in Story Mode or see how far you can go in Survival Mode\\n\\nENCOUNTER SEA CREATURES AND WEAVE PAST HAZARDS\\nHitch a lift on a turtle's back, swerve past angry sharks and watch out for thin ice\\n\\nCOLLECT ITEMS AND UNLOCK SPECIAL BOOSTS\\nAcquire fish to use special features and abilities to help you on your way\\n\\nCUTE GRAPHICS OPTIMIZED FOR HI-RES DISPLAY\\nExperience the adorable world of Air Penguin unfold in hi-res graphics\\n\\n\\x89ÓÛ\\x89ÓÛ\\x89ÓÛ\\x89ÓÛ\\x89ÓÛ\\x89ÓÛ\\x89ÓÛ\\x89ÓÛ\\x89ÓÛ\\x89ÓÛ\\x89ÓÛ\\x89ÓÛ\\x89ÓÛ\\x89ÓÛ\\x89ÓÛ\\x89ÓÛ\\x89ÓÛ\\x89ÓÛ\\x89ÓÛ\\x89ÓÛ\\x89ÓÛ\\n\\nNEWS & EVENTS\\n\\nWebsite http://www.gamevil.com\\nFacebook http://facebook.com/gamevil\\nTwitter http://twitter.com/gamevil\\nYouTube http://youtube.com/gamevil\\n\\n\", 'label': 'Description'}\n"
     ]
    }
   ],
   "source": [
    "for text_objects in t.content['text']:\n",
    "    print(text_objects)"
   ]
  },
  {
   "cell_type": "code",
   "execution_count": 119,
   "metadata": {},
   "outputs": [
    {
     "data": {
      "text/plain": [
       "{'num_of_words': 69,\n",
       " 'num_of_images': 0,\n",
       " 'num_of_links': 0,\n",
       " 'num_options': 10,\n",
       " 'expected_time': 28.33029081518132,\n",
       " 'expected_pay': 0.09080032548536406}"
      ]
     },
     "execution_count": 119,
     "metadata": {},
     "output_type": "execute_result"
    }
   ],
   "source": [
    "extract_amounts(sample_tasks[0].content,sample_tasks[0].task_type.task_type_id)"
   ]
  },
  {
   "cell_type": "code",
   "execution_count": 123,
   "metadata": {},
   "outputs": [
    {
     "name": "stdout",
     "output_type": "stream",
     "text": [
      "{'expected_pay': 0.08999775047992173,\n",
      " 'expected_time': 28.56151381293192,\n",
      " 'num_of_images': 0,\n",
      " 'num_of_links': 0,\n",
      " 'num_of_words': 69,\n",
      " 'num_options': 10}\n",
      "****************************************************************************************************\n",
      "{'expected_pay': 0.07980876633776919,\n",
      " 'expected_time': 26.687037629459013,\n",
      " 'num_of_images': 1,\n",
      " 'num_of_links': 0,\n",
      " 'num_of_words': 0,\n",
      " 'num_options': 17}\n",
      "****************************************************************************************************\n",
      "{'expected_pay': 0.10009849028070536,\n",
      " 'expected_time': 34.44564491469758,\n",
      " 'num_of_images': 1,\n",
      " 'num_of_links': 0,\n",
      " 'num_of_words': 0,\n",
      " 'num_options': 0}\n",
      "****************************************************************************************************\n",
      "{'expected_pay': 0.0995689451669651,\n",
      " 'expected_time': 35.7842385391175,\n",
      " 'num_of_images': 1,\n",
      " 'num_of_links': 0,\n",
      " 'num_of_words': 0,\n",
      " 'num_options': 0}\n",
      "****************************************************************************************************\n",
      "{'expected_pay': 0.09946755616082684,\n",
      " 'expected_time': 36.333175763062926,\n",
      " 'num_of_images': 1,\n",
      " 'num_of_links': 0,\n",
      " 'num_of_words': 0,\n",
      " 'num_options': 0}\n",
      "****************************************************************************************************\n",
      "{'expected_pay': 0.0803956568946925,\n",
      " 'expected_time': 23.855754843879907,\n",
      " 'num_of_images': 1,\n",
      " 'num_of_links': 0,\n",
      " 'num_of_words': 0,\n",
      " 'num_options': 17}\n",
      "****************************************************************************************************\n",
      "{'expected_pay': 0.07950925060394413,\n",
      " 'expected_time': 30.948527269421646,\n",
      " 'num_of_images': 1,\n",
      " 'num_of_links': 0,\n",
      " 'num_of_words': 0,\n",
      " 'num_options': 17}\n",
      "****************************************************************************************************\n",
      "{'expected_pay': 0.10045205251443157,\n",
      " 'expected_time': 35.8820811089133,\n",
      " 'num_of_images': 1,\n",
      " 'num_of_links': 0,\n",
      " 'num_of_words': 0,\n",
      " 'num_options': 0}\n",
      "****************************************************************************************************\n",
      "{'expected_pay': 0.09964819408278053,\n",
      " 'expected_time': 34.60065712614663,\n",
      " 'num_of_images': 1,\n",
      " 'num_of_links': 0,\n",
      " 'num_of_words': 0,\n",
      " 'num_options': 0}\n",
      "****************************************************************************************************\n",
      "{'expected_pay': 0.10102478673765324,\n",
      " 'expected_time': 34.068015065720324,\n",
      " 'num_of_images': 1,\n",
      " 'num_of_links': 0,\n",
      " 'num_of_words': 0,\n",
      " 'num_options': 0}\n",
      "****************************************************************************************************\n"
     ]
    }
   ],
   "source": [
    "for t in sample_tasks:\n",
    "    pprint(extract_amounts(t.content,t.task_type.task_type_id))\n",
    "    print('*'*100)"
   ]
  }
 ],
 "metadata": {
  "kernelspec": {
   "display_name": "Python 3",
   "language": "python",
   "name": "python3"
  },
  "language_info": {
   "codemirror_mode": {
    "name": "ipython",
    "version": 3
   },
   "file_extension": ".py",
   "mimetype": "text/x-python",
   "name": "python",
   "nbconvert_exporter": "python",
   "pygments_lexer": "ipython3",
   "version": "3.7.1"
  }
 },
 "nbformat": 4,
 "nbformat_minor": 2
}
