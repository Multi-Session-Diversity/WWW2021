{
 "cells": [
  {
   "cell_type": "code",
   "execution_count": 2,
   "metadata": {},
   "outputs": [],
   "source": [
    "import json\n",
    "import pandas as pd\n",
    "import numpy as np\n",
    "import os"
   ]
  },
  {
   "cell_type": "code",
   "execution_count": null,
   "metadata": {},
   "outputs": [],
   "source": []
  },
  {
   "cell_type": "code",
   "execution_count": 3,
   "metadata": {},
   "outputs": [
    {
     "data": {
      "text/plain": [
       "'\\n1) Put all files in a same as this directory \\n2) Run block by block\\n3) Ensure this notebook is in same file as your json files\\n\\n'"
      ]
     },
     "execution_count": 3,
     "metadata": {},
     "output_type": "execute_result"
    }
   ],
   "source": [
    "'''\n",
    "1) Put all files in a same as this directory \n",
    "2) Run block by block\n",
    "3) Ensure this notebook is in same file as your json files\n",
    "\n",
    "'''"
   ]
  },
  {
   "cell_type": "code",
   "execution_count": 4,
   "metadata": {},
   "outputs": [],
   "source": [
    "def isJSON (fileName):\n",
    "    '''Verifies if file is of type json'''\n",
    "    ext = fileName.split(\".\")[-1]\n",
    "    if (ext == \"json\"):\n",
    "        return True\n",
    "    return False\n"
   ]
  },
  {
   "cell_type": "code",
   "execution_count": 5,
   "metadata": {},
   "outputs": [
    {
     "name": "stdout",
     "output_type": "stream",
     "text": [
      "['A32F5JI04GX6T6.json', 'A1O6NAOVMJ1XVC.json', 'A3PY3QP70PKXW8.json', 'A18Q317FHXR6X8.json', 'A168TTLV04514B.json', 'A3KED8NFUJ4PVR.json', 'A3INW9GHEU7FLU.json', 'A36SUOEMOIXFSO.json', 'A1GRC12IH5WWLK.json', 'AXAYAIWTHH7LP.json', 'A13GNTL57HK0W1.json', 'A2K3R9GN8ZBLAO.json', 'AH8ZQQK0O91FL.json', 'A25GNMCD9PIIN9.json', 'A2Z0V2A4SP5QE0.json', 'AB77P0ABU54TS.json', 'A3T9WZOUQGE2UW.json', 'A23V41MRF31FE0.json', 'A8DBSE60T7IUJ.json', 'AJKV79WI93OM5.json', 'A1O4AAQX2KCD3N.json', 'A2LVWKZEY0TOAV.json', 'A3J6FPWX0V3SIN.json', 'A21TGZU9EXJ272.json', 'AWGPE3WU6Y8DA.json', 'A3ODGLELT1TPX.json', 'A2E7K2Z8VZR7B8.json', 'A3JBCCBAXI3JV1.json', 'A3PYD7EU2WFST6.json', 'A243X2Y9HP7630.json', 'ABF5ENVB19SC4.json', 'A1G5UODTVW13MM.json', 'A47E0Z3LTH37V.json', 'A1H1KTTVPUH4PJ.json', 'A129GA7DAJESE2.json', 'A1DXSFFL5HZ1NX.json', 'A8CVJL0MP6JFP.json', 'A2UC4H3EHIMWGC.json', 'ACM1CEGHXTKZP.json', 'AA52L19MZQHC.json', 'A1GWIYPFT77XWU.json', 'A34P1UTHMRAAL1.json', 'ATE32OFUXHUF8.json', 'AVMRJOB0ZA7PB.json', 'AWN8RYDU3FO9E.json', 'A1H3Z9AQUSX4GM.json', 'A2D4RMKLUQ6RZA.json', 'AL5MR5NR0VYFI.json', 'A3O9RBTIA905PK.json', 'A1UJ2M1AKWMNLC.json', 'A3HGZDLMCKGPSE.json', 'A984E1F4T3CGA.json', 'ALMEM1C6U9JBG.json', 'A3BHWR32XVJSXJ.json', 'A2JI1AH1YMSBC4.json', 'A1OLW2WXCHKX37.json', 'ADVCIFLB5A9B.json', 'A2G86FC52N3VF0.json', 'AZERR1TITVNHI.json', 'A27ERO97G61M54.json', 'A1YTOWIG4C22AN.json', 'AHKYVHP6591H8.json', 'A2KRL7VU5BA72.json', 'A2ARIPM4X6WZAK.json', 'A1171IQSWQS0K8.json', 'A1Q8OJR7HQFMXA.json', 'A2JAMNGL6SDAHQ.json', 'A2HA2SURHI4FXA.json', 'A1MJVTR0PCKBWW.json', 'A15WRJGXCTHZDH.json', 'A31TQK11E2EBJZ.json', 'A1V30ZVWLOVHVX.json', 'AY56ODIJVOT58.json', 'A1HUY89O8QPAOR.json', 'A8ZOLM50VUC9L.json', 'A22J5H2RJVHOAA.json', 'A3S3E3743TT090.json', 'A4BDXOXC4D8FX.json', 'A20ZKLBL9XI3XP.json', 'A2YQXWI760KK7N.json', 'AHOMJD126KTW9.json', 'AOU59T41ZKA2I.json', 'A2B8JGCVGBDTL5.json', 'A2ZGNI34PXML3Q.json', 'A121T4P5NKCHCS.json', 'A2QOQF90L2WREO.json', 'A337P004SPP0IA.json', 'AC54HUSIFWSP.json', 'A2R1011DR8EXHQ.json', 'AEBPLRRXRLDY6.json', 'ALS4ARR5D4BEC.json', 'A32W2O02CUQ2TO.json', 'A1D9FECXIKCO4O.json', 'A25URIRXINLDPX.json', 'A182N7RLXGSCZG.json', 'AHFGWXN0A2PJM.json', 'A1ESKJFDQUMBL4.json', 'A2L4PDTJOHV8IC.json', 'A14315KPFW8W8J.json', 'AW2HEHEFKRGR6.json', 'A1H2AHH07EK4MC.json', 'AK21UZISRI0ZB.json', 'A3U7RDVJNFHHLZ.json', 'AERUGEPUVPX1R.json', 'A3F51C49T9A34D.json', 'A1C7YB2GB9T6US.json', 'A3PXCRGJZE1QC3.json', 'AHHYX6Q1TABLC.json', 'A2DZW5E52SJ93H.json', 'A1K8VUKRL53OX.json', 'A3J4QZVB7RJQ0U.json', 'A31JDHUART13AV.json', 'AJ5WQ0L6F66KY.json', 'A32ZSOUUC8N08Q.json', 'ANT3QZOTL58V4.json', 'A14UJPO621M1X0.json', 'A20FCMWP43CVIU.json', 'A3B0M28EYT4K6.json', 'A3CXPP4EGCE973.json', 'A21KU4B1XE1CLO.json', 'A2D0S31W90FZYV.json', 'A14NLRB0MCHRHO.json', 'A1SX9DT3XHX845.json', 'A20KON06QRDSB0.json', 'AM7KUJM4MQOBM.json', 'A36NRERHG2J726.json', 'A30CQN8G9R4X3X.json', 'A1WF1X8PQQJ2OQ.json', 'A34LAVR18EPIH5.json', 'A2NXSMA0NSZ92N.json', 'A1QMM7AVY98D0C.json', 'ATNTBEFDP8R11.json', 'ARSABS3TFA1GU.json', 'A20LMH9PFMJK5P.json', 'A3ZJOHJHSUNGS.json', 'A2RLOB9VH2XSRT.json', 'A2G92T4A1U377C.json', 'A12WTD7YCDOU17.json', 'A39A3I18OG0XLI.json', 'A2BX2E191M8CTR.json', 'A24RCKH0Q3GMQY.json', 'A39980PKUJE4NS.json', 'A384EFVY03N5KE.json', 'A30P5YPR804NB3.json', 'A2251X4Z0421VE.json', 'A1JPTRMCGZ2FEL.json', 'A12NNJKHIZP1TY.json', 'A49A0FF6ZXYDU.json', 'AAK8Y5QDM49MH.json', 'A2XVLENAJYX691.json', 'A2PM0SEA0O8MN3.json', 'AHWF0QIK9VTDS.json', 'A3DF29F5KSLX3U.json', 'A36EOEBVBUTO85.json', 'AZKFSYWVPF6JL.json', 'A3DGFSJJ0W1A9E.json', 'A15L11WFOXPH1I.json', 'A2ROLDDHRPF8QH.json', 'A2VAY8MBDZ834I.json', 'A3GRDYAGMTAU02.json', 'A3I9FTHSULHPYS.json', 'A2KQLLEA8WMRBL.json', 'AXHC7OMH8XE9U.json', 'A2519LCLPN7Y6I.json', 'AIBSOKUXEJBPL.json', 'A4DWPYG8B5A6W.json', 'A1QX1YDOAN4LNA.json', 'A2Z0DI2L5GV87Y.json', 'A3QOMMIZTW0XF1.json', 'A246CMRJVVA09B.json', 'A3PBRIKY94OG07.json', 'A28OOINTGNY8F.json', 'A1JMLIR4TD5QHT.json', 'A21S3HPFONVWXO.json', 'A470OEDKE8OMO.json', 'A2WPHVMLLEV5ZB.json', 'A3AQNADW07QEOS.json', 'A8L7DH0W68PDP.json', 'A3GTPW3MYSLMR7.json', 'A1SC3CR9BN0HZW.json', 'ACKG8OU1KHKO2.json', 'A3Q45FR4WZRQFG.json', 'A42M0VZR3JE1L.json', 'A16U186WXJXIWR.json', 'A1MTVRXCOJAH0X.json', 'A3LUETNYKSGBFY.json', 'A1Q79ZBXNA9L41.json', 'A33S7DVS9FVUUB.json', 'A35QOSRQSJDP9E.json', 'APTZ3SVLOMYEC.json', 'A222R4PNCF08OF.json', 'A2YER9JH3ALG19.json', 'A3E159NSD6WYR5.json', 'A3LE1BIVORW3VR.json', 'A13PO6UXV13CZ6.json', 'A1SNX9NBRRIVON.json', 'AZH7R7F6NO2FX.json', 'A2LZ05I60BY0AV.json', 'A1XMRHFAQN8MYU.json', 'A4D99Y82KOLC8.json', 'A1U8C2JU2146F7.json', 'A3K6R3WRN2HISD.json', 'A2DAZ0CJ3VKS80.json', 'AJRY9ALX8069Y.json', 'A2HX13XTRKDD9C.json', 'A1Z3GFH6MNSU46.json', 'A29QNWCVA5VHFY.json']\n"
     ]
    }
   ],
   "source": [
    "# Get a list of all JSON FILES\n",
    "dir_path = os.getcwd()\n",
    "lstOfFiles = [] #List of all JSON file \n",
    "\n",
    "fileList = os.listdir(dir_path)\n",
    "for file in fileList:\n",
    "    if (isJSON(file)):\n",
    "        lstOfFiles.append(file)\n",
    "print(lstOfFiles)"
   ]
  },
  {
   "cell_type": "code",
   "execution_count": 6,
   "metadata": {},
   "outputs": [
    {
     "data": {
      "text/html": [
       "<div>\n",
       "<style scoped>\n",
       "    .dataframe tbody tr th:only-of-type {\n",
       "        vertical-align: middle;\n",
       "    }\n",
       "\n",
       "    .dataframe tbody tr th {\n",
       "        vertical-align: top;\n",
       "    }\n",
       "\n",
       "    .dataframe thead th {\n",
       "        text-align: right;\n",
       "    }\n",
       "</style>\n",
       "<table border=\"1\" class=\"dataframe\">\n",
       "  <thead>\n",
       "    <tr style=\"text-align: right;\">\n",
       "      <th></th>\n",
       "      <th>Worker ID</th>\n",
       "      <th>Context</th>\n",
       "      <th>Count_Selected for Playlist 1</th>\n",
       "      <th>Count_Selected for Playlist 2</th>\n",
       "      <th>Count_Selected for Playlist 3</th>\n",
       "      <th>Count_Selected for Playlist 4</th>\n",
       "      <th>Count_Selected for Playlist 5</th>\n",
       "      <th>Artists Playlist 1</th>\n",
       "      <th>Artists Playlist 2</th>\n",
       "      <th>Artists Playlist 3</th>\n",
       "      <th>...</th>\n",
       "      <th>Familiarity Playlist 1</th>\n",
       "      <th>Familiarity Playlist 2</th>\n",
       "      <th>Familiarity Playlist 3</th>\n",
       "      <th>Familiarity Playlist 4</th>\n",
       "      <th>Familiarity Playlist 5</th>\n",
       "      <th>Overall Playlist 1</th>\n",
       "      <th>Overall Playlist 2</th>\n",
       "      <th>Overall Playlist 3</th>\n",
       "      <th>Overall Playlist 4</th>\n",
       "      <th>Overall Playlist 5</th>\n",
       "    </tr>\n",
       "  </thead>\n",
       "  <tbody>\n",
       "  </tbody>\n",
       "</table>\n",
       "<p>0 rows × 32 columns</p>\n",
       "</div>"
      ],
      "text/plain": [
       "Empty DataFrame\n",
       "Columns: [Worker ID, Context, Count_Selected for Playlist 1, Count_Selected for Playlist 2, Count_Selected for Playlist 3, Count_Selected for Playlist 4, Count_Selected for Playlist 5, Artists Playlist 1, Artists Playlist 2, Artists Playlist 3, Artists Playlist 4, Artists Playlist 5, Recency Playlist 1, Recency Playlist 2, Recency Playlist 3, Recency Playlist 4, Recency Playlist 5, Diversity Playlist 1, Diversity Playlist 2, Diversity Playlist 3, Diversity Playlist 4, Diversity Playlist 5, Familiarity Playlist 1, Familiarity Playlist 2, Familiarity Playlist 3, Familiarity Playlist 4, Familiarity Playlist 5, Overall Playlist 1, Overall Playlist 2, Overall Playlist 3, Overall Playlist 4, Overall Playlist 5]\n",
       "Index: []\n",
       "\n",
       "[0 rows x 32 columns]"
      ]
     },
     "execution_count": 6,
     "metadata": {},
     "output_type": "execute_result"
    }
   ],
   "source": [
    "'''\n",
    "Data for each worker, by playlist id\n",
    "\n",
    "'''\n",
    "\n",
    "\n",
    "df = pd.DataFrame(columns=['Worker ID', 'Context' , 'Count_Selected for Playlist 1', 'Count_Selected for Playlist 2',\n",
    "                          'Count_Selected for Playlist 3', 'Count_Selected for Playlist 4', 'Count_Selected for Playlist 5',\n",
    "                          'Artists Playlist 1', 'Artists Playlist 2', 'Artists Playlist 3', 'Artists Playlist 4',\n",
    "                          'Artists Playlist 5','Recency Playlist 1','Recency Playlist 2','Recency Playlist 3','Recency Playlist 4',\n",
    "                          'Recency Playlist 5','Diversity Playlist 1','Diversity Playlist 2','Diversity Playlist 3','Diversity Playlist 4',\n",
    "                          'Diversity Playlist 5','Familiarity Playlist 1','Familiarity Playlist 2','Familiarity Playlist 3',\n",
    "                          'Familiarity Playlist 4','Familiarity Playlist 5','Overall Playlist 1','Overall Playlist 2',\n",
    "                          'Overall Playlist 3','Overall Playlist 4','Overall Playlist 5'])\n",
    "df"
   ]
  },
  {
   "cell_type": "code",
   "execution_count": null,
   "metadata": {},
   "outputs": [],
   "source": []
  },
  {
   "cell_type": "code",
   "execution_count": 7,
   "metadata": {},
   "outputs": [
    {
     "name": "stdout",
     "output_type": "stream",
     "text": [
      "A2D4RMKLUQ6RZA did not have enough data to make an entry\n"
     ]
    }
   ],
   "source": [
    "#Parse JSON\n",
    "\n",
    "for file in lstOfFiles:\n",
    "    # Opening JSON file \n",
    "    f = open(file) \n",
    "    dictJSON = json.load(f)\n",
    "    worker_id = dictJSON['worker_id']\n",
    "    context = dictJSON['context']\n",
    "    #print(dictJSON)\n",
    "    \n",
    "    #Some files do not have enough data in the playlist comp\n",
    "    if (len(dictJSON['playlists']) != 5):\n",
    "        print(worker_id+\" did not have enough data to make an entry\")\n",
    "        continue\n",
    "    \n",
    "    \n",
    "    \n",
    "    #Stuff for playlist 1\n",
    "    \n",
    "    cs1 = int(dictJSON['playlists'][0]['count_selected'])\n",
    "    a1 = int(dictJSON['playlists'][0]['artists'])\n",
    "    d1 = int(dictJSON['playlists'][0]['diversity'])\n",
    "    r1 = int(dictJSON['playlists'][0]['recency'])\n",
    "    f1 = int(dictJSON['playlists'][0]['familiarity'])\n",
    "    o1 = int(dictJSON['playlists'][0]['overall'])\n",
    "    \n",
    "    #Stuff for playlist 2\n",
    "    \n",
    "    cs2 = int(dictJSON['playlists'][1]['count_selected'])\n",
    "    a2 = int(dictJSON['playlists'][1]['artists'])\n",
    "    d2 = int(dictJSON['playlists'][1]['diversity'])\n",
    "    r2 = int(dictJSON['playlists'][1]['recency'])\n",
    "    f2 = int(dictJSON['playlists'][1]['familiarity'])\n",
    "    o2 = int(dictJSON['playlists'][1]['overall'])\n",
    "    \n",
    "    \n",
    "    #Stuff for playlist 3\n",
    "    \n",
    "    cs3 = int(dictJSON['playlists'][2]['count_selected'])\n",
    "    a3 = int(dictJSON['playlists'][2]['artists'])\n",
    "    d3 = int(dictJSON['playlists'][2]['diversity'])\n",
    "    r3 = int(dictJSON['playlists'][2]['recency'])\n",
    "    f3 = int(dictJSON['playlists'][2]['familiarity'])\n",
    "    o3 = int(dictJSON['playlists'][2]['overall'])\n",
    "    \n",
    "    \n",
    "    #Stuff for playlist 4\n",
    "    \n",
    "    cs4 = int(dictJSON['playlists'][3]['count_selected'])\n",
    "    a4 = int(dictJSON['playlists'][3]['artists'])\n",
    "    d4 = int(dictJSON['playlists'][3]['diversity'])\n",
    "    r4 = int(dictJSON['playlists'][3]['recency'])\n",
    "    f4 = int(dictJSON['playlists'][3]['familiarity'])\n",
    "    o4 = int(dictJSON['playlists'][3]['overall'])\n",
    "    \n",
    "    #Stuff for playlist 5\n",
    "    \n",
    "    cs5 = int(dictJSON['playlists'][4]['count_selected'])\n",
    "    a5 = int(dictJSON['playlists'][4]['artists'])\n",
    "    d5 = int(dictJSON['playlists'][4]['diversity'])\n",
    "    r5 = int(dictJSON['playlists'][4]['recency'])\n",
    "    f5 = int(dictJSON['playlists'][4]['familiarity'])\n",
    "    o5 = int(dictJSON['playlists'][4]['overall'])\n",
    "    \n",
    "    \n",
    "    \n",
    "\n",
    "    \n",
    "    #Make entries into dataframe \n",
    "    \n",
    "    df.loc[-1] = [worker_id,context,cs1,cs2,cs3,cs4,cs5,a1,a2,a3,a4,a5,r1,r2,r3,r4,r5,d1,d2,d3,d4,d5,\n",
    "                  f1,f2,f3,f4,f5,o1,o2,o3,o4,o5]\n",
    "    \n",
    "    df.index = df.index + 1  # shifting index\n",
    "    df = df.sort_index()  # sorting by index\n",
    "    \n",
    "    \n",
    "\n"
   ]
  },
  {
   "cell_type": "code",
   "execution_count": 8,
   "metadata": {},
   "outputs": [
    {
     "data": {
      "text/html": [
       "<div>\n",
       "<style scoped>\n",
       "    .dataframe tbody tr th:only-of-type {\n",
       "        vertical-align: middle;\n",
       "    }\n",
       "\n",
       "    .dataframe tbody tr th {\n",
       "        vertical-align: top;\n",
       "    }\n",
       "\n",
       "    .dataframe thead th {\n",
       "        text-align: right;\n",
       "    }\n",
       "</style>\n",
       "<table border=\"1\" class=\"dataframe\">\n",
       "  <thead>\n",
       "    <tr style=\"text-align: right;\">\n",
       "      <th></th>\n",
       "      <th>Worker ID</th>\n",
       "      <th>Context</th>\n",
       "      <th>Count_Selected for Playlist 1</th>\n",
       "      <th>Count_Selected for Playlist 2</th>\n",
       "      <th>Count_Selected for Playlist 3</th>\n",
       "      <th>Count_Selected for Playlist 4</th>\n",
       "      <th>Count_Selected for Playlist 5</th>\n",
       "      <th>Artists Playlist 1</th>\n",
       "      <th>Artists Playlist 2</th>\n",
       "      <th>Artists Playlist 3</th>\n",
       "      <th>...</th>\n",
       "      <th>Familiarity Playlist 1</th>\n",
       "      <th>Familiarity Playlist 2</th>\n",
       "      <th>Familiarity Playlist 3</th>\n",
       "      <th>Familiarity Playlist 4</th>\n",
       "      <th>Familiarity Playlist 5</th>\n",
       "      <th>Overall Playlist 1</th>\n",
       "      <th>Overall Playlist 2</th>\n",
       "      <th>Overall Playlist 3</th>\n",
       "      <th>Overall Playlist 4</th>\n",
       "      <th>Overall Playlist 5</th>\n",
       "    </tr>\n",
       "  </thead>\n",
       "  <tbody>\n",
       "    <tr>\n",
       "      <th>0</th>\n",
       "      <td>A29QNWCVA5VHFY</td>\n",
       "      <td>in a theme party</td>\n",
       "      <td>18</td>\n",
       "      <td>11</td>\n",
       "      <td>14</td>\n",
       "      <td>13</td>\n",
       "      <td>12</td>\n",
       "      <td>3</td>\n",
       "      <td>4</td>\n",
       "      <td>4</td>\n",
       "      <td>...</td>\n",
       "      <td>4</td>\n",
       "      <td>4</td>\n",
       "      <td>5</td>\n",
       "      <td>4</td>\n",
       "      <td>4</td>\n",
       "      <td>3</td>\n",
       "      <td>4</td>\n",
       "      <td>5</td>\n",
       "      <td>4</td>\n",
       "      <td>2</td>\n",
       "    </tr>\n",
       "    <tr>\n",
       "      <th>1</th>\n",
       "      <td>A1Z3GFH6MNSU46</td>\n",
       "      <td>in a theme party</td>\n",
       "      <td>10</td>\n",
       "      <td>13</td>\n",
       "      <td>10</td>\n",
       "      <td>10</td>\n",
       "      <td>5</td>\n",
       "      <td>2</td>\n",
       "      <td>3</td>\n",
       "      <td>2</td>\n",
       "      <td>...</td>\n",
       "      <td>2</td>\n",
       "      <td>4</td>\n",
       "      <td>5</td>\n",
       "      <td>5</td>\n",
       "      <td>5</td>\n",
       "      <td>2</td>\n",
       "      <td>4</td>\n",
       "      <td>5</td>\n",
       "      <td>5</td>\n",
       "      <td>5</td>\n",
       "    </tr>\n",
       "    <tr>\n",
       "      <th>2</th>\n",
       "      <td>A2HX13XTRKDD9C</td>\n",
       "      <td>on a Sunday morning</td>\n",
       "      <td>20</td>\n",
       "      <td>20</td>\n",
       "      <td>20</td>\n",
       "      <td>20</td>\n",
       "      <td>21</td>\n",
       "      <td>5</td>\n",
       "      <td>5</td>\n",
       "      <td>5</td>\n",
       "      <td>...</td>\n",
       "      <td>4</td>\n",
       "      <td>4</td>\n",
       "      <td>4</td>\n",
       "      <td>4</td>\n",
       "      <td>4</td>\n",
       "      <td>4</td>\n",
       "      <td>0</td>\n",
       "      <td>4</td>\n",
       "      <td>4</td>\n",
       "      <td>4</td>\n",
       "    </tr>\n",
       "    <tr>\n",
       "      <th>3</th>\n",
       "      <td>AJRY9ALX8069Y</td>\n",
       "      <td>when learning about a music style</td>\n",
       "      <td>19</td>\n",
       "      <td>18</td>\n",
       "      <td>19</td>\n",
       "      <td>20</td>\n",
       "      <td>24</td>\n",
       "      <td>4</td>\n",
       "      <td>4</td>\n",
       "      <td>4</td>\n",
       "      <td>...</td>\n",
       "      <td>4</td>\n",
       "      <td>4</td>\n",
       "      <td>4</td>\n",
       "      <td>4</td>\n",
       "      <td>4</td>\n",
       "      <td>4</td>\n",
       "      <td>4</td>\n",
       "      <td>4</td>\n",
       "      <td>4</td>\n",
       "      <td>4</td>\n",
       "    </tr>\n",
       "    <tr>\n",
       "      <th>4</th>\n",
       "      <td>A2DAZ0CJ3VKS80</td>\n",
       "      <td>on a Sunday morning</td>\n",
       "      <td>6</td>\n",
       "      <td>8</td>\n",
       "      <td>5</td>\n",
       "      <td>7</td>\n",
       "      <td>8</td>\n",
       "      <td>4</td>\n",
       "      <td>4</td>\n",
       "      <td>3</td>\n",
       "      <td>...</td>\n",
       "      <td>3</td>\n",
       "      <td>3</td>\n",
       "      <td>2</td>\n",
       "      <td>3</td>\n",
       "      <td>3</td>\n",
       "      <td>4</td>\n",
       "      <td>4</td>\n",
       "      <td>3</td>\n",
       "      <td>4</td>\n",
       "      <td>4</td>\n",
       "    </tr>\n",
       "  </tbody>\n",
       "</table>\n",
       "<p>5 rows × 32 columns</p>\n",
       "</div>"
      ],
      "text/plain": [
       "        Worker ID                            Context  \\\n",
       "0  A29QNWCVA5VHFY                   in a theme party   \n",
       "1  A1Z3GFH6MNSU46                   in a theme party   \n",
       "2  A2HX13XTRKDD9C                on a Sunday morning   \n",
       "3   AJRY9ALX8069Y  when learning about a music style   \n",
       "4  A2DAZ0CJ3VKS80                on a Sunday morning   \n",
       "\n",
       "  Count_Selected for Playlist 1 Count_Selected for Playlist 2  \\\n",
       "0                            18                            11   \n",
       "1                            10                            13   \n",
       "2                            20                            20   \n",
       "3                            19                            18   \n",
       "4                             6                             8   \n",
       "\n",
       "  Count_Selected for Playlist 3 Count_Selected for Playlist 4  \\\n",
       "0                            14                            13   \n",
       "1                            10                            10   \n",
       "2                            20                            20   \n",
       "3                            19                            20   \n",
       "4                             5                             7   \n",
       "\n",
       "  Count_Selected for Playlist 5 Artists Playlist 1 Artists Playlist 2  \\\n",
       "0                            12                  3                  4   \n",
       "1                             5                  2                  3   \n",
       "2                            21                  5                  5   \n",
       "3                            24                  4                  4   \n",
       "4                             8                  4                  4   \n",
       "\n",
       "  Artists Playlist 3  ... Familiarity Playlist 1 Familiarity Playlist 2  \\\n",
       "0                  4  ...                      4                      4   \n",
       "1                  2  ...                      2                      4   \n",
       "2                  5  ...                      4                      4   \n",
       "3                  4  ...                      4                      4   \n",
       "4                  3  ...                      3                      3   \n",
       "\n",
       "  Familiarity Playlist 3 Familiarity Playlist 4 Familiarity Playlist 5  \\\n",
       "0                      5                      4                      4   \n",
       "1                      5                      5                      5   \n",
       "2                      4                      4                      4   \n",
       "3                      4                      4                      4   \n",
       "4                      2                      3                      3   \n",
       "\n",
       "  Overall Playlist 1 Overall Playlist 2 Overall Playlist 3 Overall Playlist 4  \\\n",
       "0                  3                  4                  5                  4   \n",
       "1                  2                  4                  5                  5   \n",
       "2                  4                  0                  4                  4   \n",
       "3                  4                  4                  4                  4   \n",
       "4                  4                  4                  3                  4   \n",
       "\n",
       "  Overall Playlist 5  \n",
       "0                  2  \n",
       "1                  5  \n",
       "2                  4  \n",
       "3                  4  \n",
       "4                  4  \n",
       "\n",
       "[5 rows x 32 columns]"
      ]
     },
     "execution_count": 8,
     "metadata": {},
     "output_type": "execute_result"
    }
   ],
   "source": [
    "df.head()"
   ]
  },
  {
   "cell_type": "code",
   "execution_count": 9,
   "metadata": {},
   "outputs": [
    {
     "data": {
      "text/plain": [
       "206"
      ]
     },
     "execution_count": 9,
     "metadata": {},
     "output_type": "execute_result"
    }
   ],
   "source": [
    "#Total entries (worker_ids)\n",
    "\n",
    "len(df)"
   ]
  },
  {
   "cell_type": "code",
   "execution_count": 10,
   "metadata": {},
   "outputs": [
    {
     "data": {
      "text/plain": [
       "3107"
      ]
     },
     "execution_count": 10,
     "metadata": {},
     "output_type": "execute_result"
    }
   ],
   "source": [
    "#sum of any column\n",
    "\n",
    "name_of_column = \"Count_Selected for Playlist 1\"\n",
    "\n",
    "df[name_of_column].sum()"
   ]
  },
  {
   "cell_type": "code",
   "execution_count": 11,
   "metadata": {},
   "outputs": [
    {
     "data": {
      "text/plain": [
       "15.08252427184466"
      ]
     },
     "execution_count": 11,
     "metadata": {},
     "output_type": "execute_result"
    }
   ],
   "source": [
    "#Averge of column\n",
    "\n",
    "name_of_column = \"Count_Selected for Playlist 1\"\n",
    "\n",
    "df[name_of_column].sum() / len(df[name_of_column])"
   ]
  },
  {
   "cell_type": "code",
   "execution_count": 12,
   "metadata": {},
   "outputs": [
    {
     "data": {
      "text/plain": [
       "5     19\n",
       "10    17\n",
       "8     12\n",
       "18    11\n",
       "12    11\n",
       "19    10\n",
       "9     10\n",
       "20     9\n",
       "13     8\n",
       "14     7\n",
       "11     7\n",
       "15     6\n",
       "4      6\n",
       "22     5\n",
       "17     5\n",
       "6      5\n",
       "21     5\n",
       "0      5\n",
       "26     5\n",
       "30     5\n",
       "7      4\n",
       "23     3\n",
       "1      3\n",
       "25     3\n",
       "24     3\n",
       "3      2\n",
       "46     2\n",
       "31     2\n",
       "32     2\n",
       "34     2\n",
       "38     2\n",
       "39     1\n",
       "2      1\n",
       "45     1\n",
       "33     1\n",
       "37     1\n",
       "29     1\n",
       "28     1\n",
       "27     1\n",
       "48     1\n",
       "50     1\n",
       "Name: Count_Selected for Playlist 1, dtype: int64"
      ]
     },
     "execution_count": 12,
     "metadata": {},
     "output_type": "execute_result"
    }
   ],
   "source": [
    "#Get the frequencies of occurances in a given column\n",
    "name_of_column = \"Count_Selected for Playlist 1\"\n",
    "df[name_of_column].value_counts()"
   ]
  },
  {
   "cell_type": "code",
   "execution_count": 13,
   "metadata": {},
   "outputs": [],
   "source": [
    "#Produce csv of final data\n",
    "\n",
    "df.to_csv(\"stats.csv\")"
   ]
  },
  {
   "cell_type": "code",
   "execution_count": null,
   "metadata": {},
   "outputs": [],
   "source": []
  },
  {
   "cell_type": "code",
   "execution_count": null,
   "metadata": {},
   "outputs": [],
   "source": []
  },
  {
   "cell_type": "code",
   "execution_count": null,
   "metadata": {},
   "outputs": [],
   "source": []
  },
  {
   "cell_type": "code",
   "execution_count": null,
   "metadata": {},
   "outputs": [],
   "source": []
  },
  {
   "cell_type": "code",
   "execution_count": null,
   "metadata": {},
   "outputs": [],
   "source": []
  }
 ],
 "metadata": {
  "kernelspec": {
   "display_name": "Python 3",
   "language": "python",
   "name": "python3"
  },
  "language_info": {
   "codemirror_mode": {
    "name": "ipython",
    "version": 3
   },
   "file_extension": ".py",
   "mimetype": "text/x-python",
   "name": "python",
   "nbconvert_exporter": "python",
   "pygments_lexer": "ipython3",
   "version": "3.7.7"
  }
 },
 "nbformat": 4,
 "nbformat_minor": 2
}
